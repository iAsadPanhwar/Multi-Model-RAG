{
  "nbformat": 4,
  "nbformat_minor": 0,
  "metadata": {
    "colab": {
      "provenance": []
    },
    "kernelspec": {
      "name": "python3",
      "display_name": "Python 3"
    },
    "language_info": {
      "name": "python"
    }
  },
  "cells": [
    {
      "cell_type": "markdown",
      "source": [
        "# **Document Parsing**"
      ],
      "metadata": {
        "id": "WsfjVLkhFOCq"
      }
    },
    {
      "cell_type": "code",
      "execution_count": 1,
      "metadata": {
        "id": "jpKib0pfxTCK"
      },
      "outputs": [],
      "source": [
        "!pip install --quiet \"unstructured[all-docs]\" pillow pydantic lxml matplotlib"
      ]
    },
    {
      "cell_type": "code",
      "source": [
        "!sudo apt-get update"
      ],
      "metadata": {
        "colab": {
          "base_uri": "https://localhost:8080/"
        },
        "id": "8b8bsAQ2FhX4",
        "outputId": "5a71f98e-93a6-4663-b660-232bd9411a9a"
      },
      "execution_count": 2,
      "outputs": [
        {
          "output_type": "stream",
          "name": "stdout",
          "text": [
            "\r0% [Working]\r            \rHit:1 http://security.ubuntu.com/ubuntu jammy-security InRelease\n",
            "\r0% [Waiting for headers] [Connected to cloud.r-project.org (52.85.151.93)] [Con\r                                                                               \rHit:2 http://archive.ubuntu.com/ubuntu jammy InRelease\n",
            "\r0% [Waiting for headers] [Connected to cloud.r-project.org (52.85.151.93)] [Con\r                                                                               \rHit:3 http://archive.ubuntu.com/ubuntu jammy-updates InRelease\n",
            "\r0% [Waiting for headers] [Connected to cloud.r-project.org (52.85.151.93)] [Con\r                                                                               \rHit:4 http://archive.ubuntu.com/ubuntu jammy-backports InRelease\n",
            "Hit:5 https://cloud.r-project.org/bin/linux/ubuntu jammy-cran40/ InRelease\n",
            "Hit:6 https://developer.download.nvidia.com/compute/cuda/repos/ubuntu2204/x86_64  InRelease\n",
            "Ign:7 https://r2u.stat.illinois.edu/ubuntu jammy InRelease\n",
            "Hit:8 https://r2u.stat.illinois.edu/ubuntu jammy Release\n",
            "Hit:10 https://ppa.launchpadcontent.net/deadsnakes/ppa/ubuntu jammy InRelease\n",
            "Hit:11 https://ppa.launchpadcontent.net/graphics-drivers/ppa/ubuntu jammy InRelease\n",
            "Hit:12 https://ppa.launchpadcontent.net/ubuntugis/ppa/ubuntu jammy InRelease\n",
            "Reading package lists... Done\n",
            "W: Skipping acquire of configured file 'main/source/Sources' as repository 'https://r2u.stat.illinois.edu/ubuntu jammy InRelease' does not seem to provide it (sources.list entry misspelt?)\n"
          ]
        }
      ]
    },
    {
      "cell_type": "code",
      "source": [
        "!sudo apt-get install poppler-utils"
      ],
      "metadata": {
        "colab": {
          "base_uri": "https://localhost:8080/"
        },
        "id": "ezRZUT8jGclZ",
        "outputId": "f0465d08-32b1-4d4a-e99b-e0ad0b0e1d0a"
      },
      "execution_count": 3,
      "outputs": [
        {
          "output_type": "stream",
          "name": "stdout",
          "text": [
            "Reading package lists... Done\n",
            "Building dependency tree... Done\n",
            "Reading state information... Done\n",
            "poppler-utils is already the newest version (22.02.0-2ubuntu0.5).\n",
            "0 upgraded, 0 newly installed, 0 to remove and 45 not upgraded.\n"
          ]
        }
      ]
    },
    {
      "cell_type": "code",
      "source": [
        "!sudo apt-get install libleptonica-dev tesseract-ocr libtesseract-dev python3-pil tesseract-ocr-eng tesseract-ocr-script-latn"
      ],
      "metadata": {
        "colab": {
          "base_uri": "https://localhost:8080/"
        },
        "id": "oWdIDz6bGfDF",
        "outputId": "af5aebb1-0fc0-43d4-8ab9-7973833fe047"
      },
      "execution_count": 4,
      "outputs": [
        {
          "output_type": "stream",
          "name": "stdout",
          "text": [
            "Reading package lists... Done\n",
            "Building dependency tree... Done\n",
            "Reading state information... Done\n",
            "libleptonica-dev is already the newest version (1.82.0-3build1).\n",
            "libtesseract-dev is already the newest version (4.1.1-2.1build1).\n",
            "tesseract-ocr is already the newest version (4.1.1-2.1build1).\n",
            "tesseract-ocr-eng is already the newest version (1:4.00~git30-7274cfa-1.1).\n",
            "tesseract-ocr-script-latn is already the newest version (1:4.00~git30-7274cfa-1.1).\n",
            "python3-pil is already the newest version (9.0.1-1ubuntu0.3).\n",
            "0 upgraded, 0 newly installed, 0 to remove and 45 not upgraded.\n"
          ]
        }
      ]
    },
    {
      "cell_type": "code",
      "source": [
        "!pip install unstructured-pytesseract\n",
        "!pip install tesseract-ocr"
      ],
      "metadata": {
        "colab": {
          "base_uri": "https://localhost:8080/"
        },
        "id": "JBaF80dPGiBd",
        "outputId": "a79bfd96-b712-4dce-8794-c7a47b8a8d40"
      },
      "execution_count": 5,
      "outputs": [
        {
          "output_type": "stream",
          "name": "stdout",
          "text": [
            "Requirement already satisfied: unstructured-pytesseract in /usr/local/lib/python3.10/dist-packages (0.3.12)\n",
            "Requirement already satisfied: packaging>=21.3 in /usr/local/lib/python3.10/dist-packages (from unstructured-pytesseract) (24.1)\n",
            "Requirement already satisfied: Pillow>=8.0.0 in /usr/local/lib/python3.10/dist-packages (from unstructured-pytesseract) (10.4.0)\n",
            "Requirement already satisfied: tesseract-ocr in /usr/local/lib/python3.10/dist-packages (0.0.1)\n",
            "Requirement already satisfied: cython in /usr/local/lib/python3.10/dist-packages (from tesseract-ocr) (3.0.11)\n"
          ]
        }
      ]
    },
    {
      "cell_type": "code",
      "source": [
        "from google.colab import drive\n",
        "drive.mount('/content/drive')"
      ],
      "metadata": {
        "colab": {
          "base_uri": "https://localhost:8080/"
        },
        "id": "I2NJRn49O7Lr",
        "outputId": "eac79e7b-cabc-4acf-daa1-8ed1a4d6ab07"
      },
      "execution_count": 6,
      "outputs": [
        {
          "output_type": "stream",
          "name": "stdout",
          "text": [
            "Drive already mounted at /content/drive; to attempt to forcibly remount, call drive.mount(\"/content/drive\", force_remount=True).\n"
          ]
        }
      ]
    },
    {
      "cell_type": "code",
      "source": [
        "from unstructured.partition.pdf import partition_pdf\n",
        "\n",
        "raw_pdf_elements=partition_pdf(\n",
        "    filename=\"/content/drive/MyDrive/Rag/attention.pdf\",                  # mandatory\n",
        "    strategy=\"hi_res\",                                 # mandatory to use ``hi_res`` strategy\n",
        "    extract_images_in_pdf=True,                       # mandatory to set as ``True``\n",
        "    extract_image_block_types=[\"Image\", \"Table\"],          # optional\n",
        "    extract_image_block_to_payload=False,                  # optional\n",
        "    extract_image_block_output_dir=\"extracted_data\",  # optional - only works when ``extract_image_block_to_payload=False``\n",
        "    )\n"
      ],
      "metadata": {
        "id": "vDwBWACpGt0b"
      },
      "execution_count": 7,
      "outputs": []
    },
    {
      "cell_type": "code",
      "source": [
        "raw_pdf_elements"
      ],
      "metadata": {
        "colab": {
          "base_uri": "https://localhost:8080/"
        },
        "id": "qsLPR-EVHX4Q",
        "outputId": "2a1d40ba-deed-43ea-934f-f632acc6fcfd"
      },
      "execution_count": 9,
      "outputs": [
        {
          "output_type": "execute_result",
          "data": {
            "text/plain": [
              "[<unstructured.documents.elements.Text at 0x7f8eeb1855a0>,\n",
              " <unstructured.documents.elements.Header at 0x7f8ee0c71270>,\n",
              " <unstructured.documents.elements.Text at 0x7f8ee0a65090>,\n",
              " <unstructured.documents.elements.NarrativeText at 0x7f8ee0c73400>,\n",
              " <unstructured.documents.elements.Title at 0x7f8ee0c72e90>,\n",
              " <unstructured.documents.elements.Title at 0x7f8ee0a65660>,\n",
              " <unstructured.documents.elements.NarrativeText at 0x7f8ee0c71d80>,\n",
              " <unstructured.documents.elements.NarrativeText at 0x7f8ee0c720e0>,\n",
              " <unstructured.documents.elements.NarrativeText at 0x7f8ee0c70fa0>,\n",
              " <unstructured.documents.elements.Title at 0x7f8ee0a66530>,\n",
              " <unstructured.documents.elements.NarrativeText at 0x7f8ee4e110c0>,\n",
              " <unstructured.documents.elements.NarrativeText at 0x7f8ee3711060>,\n",
              " <unstructured.documents.elements.Title at 0x7f8ee1074460>,\n",
              " <unstructured.documents.elements.Title at 0x7f8ee37118a0>,\n",
              " <unstructured.documents.elements.NarrativeText at 0x7f8ee3710cd0>,\n",
              " <unstructured.documents.elements.NarrativeText at 0x7f8ee37124d0>,\n",
              " <unstructured.documents.elements.NarrativeText at 0x7f8ee10742b0>,\n",
              " <unstructured.documents.elements.NarrativeText at 0x7f8ee3712c50>,\n",
              " <unstructured.documents.elements.Title at 0x7f8ee10740a0>,\n",
              " <unstructured.documents.elements.NarrativeText at 0x7f8ee1077070>,\n",
              " <unstructured.documents.elements.NarrativeText at 0x7f8ee1075480>,\n",
              " <unstructured.documents.elements.NarrativeText at 0x7f8ee4e55660>,\n",
              " <unstructured.documents.elements.NarrativeText at 0x7f8ee4e56b90>,\n",
              " <unstructured.documents.elements.Title at 0x7f8ee4e54fa0>,\n",
              " <unstructured.documents.elements.NarrativeText at 0x7f8ee4e562c0>,\n",
              " <unstructured.documents.elements.NarrativeText at 0x7f8ee4e54a00>,\n",
              " <unstructured.documents.elements.NarrativeText at 0x7f8ee4e56d10>,\n",
              " <unstructured.documents.elements.NarrativeText at 0x7f8ee4e56fe0>,\n",
              " <unstructured.documents.elements.Title at 0x7f8ee4e55600>,\n",
              " <unstructured.documents.elements.NarrativeText at 0x7f8ee4e54250>,\n",
              " <unstructured.documents.elements.Footer at 0x7f8ee4e553f0>,\n",
              " <unstructured.documents.elements.Image at 0x7f8ee4e54400>,\n",
              " <unstructured.documents.elements.FigureCaption at 0x7f8ee4e573a0>,\n",
              " <unstructured.documents.elements.NarrativeText at 0x7f8ee4e54520>,\n",
              " <unstructured.documents.elements.Title at 0x7f8ee4e549d0>,\n",
              " <unstructured.documents.elements.NarrativeText at 0x7f8ee4e54760>,\n",
              " <unstructured.documents.elements.NarrativeText at 0x7f8ee0b5a200>,\n",
              " <unstructured.documents.elements.Title at 0x7f8ee0b58e20>,\n",
              " <unstructured.documents.elements.NarrativeText at 0x7f8ee0b5a3b0>,\n",
              " <unstructured.documents.elements.Footer at 0x7f8ee0b5ab90>,\n",
              " <unstructured.documents.elements.Image at 0x7f8ee0b58fa0>,\n",
              " <unstructured.documents.elements.Image at 0x7f8ee0b58370>,\n",
              " <unstructured.documents.elements.Image at 0x7f8ee0b59cf0>,\n",
              " <unstructured.documents.elements.NarrativeText at 0x7f8ee0b5ba90>,\n",
              " <unstructured.documents.elements.NarrativeText at 0x7f8ee0b5b850>,\n",
              " <unstructured.documents.elements.Title at 0x7f8ee0b5afe0>,\n",
              " <unstructured.documents.elements.NarrativeText at 0x7f8ee0b58eb0>,\n",
              " <unstructured.documents.elements.NarrativeText at 0x7f8ee0b5a830>,\n",
              " <unstructured.documents.elements.Formula at 0x7f8ee4e93700>,\n",
              " <unstructured.documents.elements.NarrativeText at 0x7f8ee4e90af0>,\n",
              " <unstructured.documents.elements.NarrativeText at 0x7f8ee4e92f50>,\n",
              " <unstructured.documents.elements.Title at 0x7f8ee4e926e0>,\n",
              " <unstructured.documents.elements.NarrativeText at 0x7f8ee4e91c30>,\n",
              " <unstructured.documents.elements.NarrativeText at 0x7f8ee4e91270>,\n",
              " <unstructured.documents.elements.Text at 0x7f8ee1076020>,\n",
              " <unstructured.documents.elements.NarrativeText at 0x7f8ee4e903a0>,\n",
              " <unstructured.documents.elements.NarrativeText at 0x7f8ee4e930d0>,\n",
              " <unstructured.documents.elements.Formula at 0x7f8ee4e90100>,\n",
              " <unstructured.documents.elements.NarrativeText at 0x7f8ee4e915d0>,\n",
              " <unstructured.documents.elements.NarrativeText at 0x7f8ee4e91a50>,\n",
              " <unstructured.documents.elements.Title at 0x7f8ee4e90880>,\n",
              " <unstructured.documents.elements.NarrativeText at 0x7f8ee09dbac0>,\n",
              " <unstructured.documents.elements.ListItem at 0x7f8ee09d9360>,\n",
              " <unstructured.documents.elements.ListItem at 0x7f8ee09db580>,\n",
              " <unstructured.documents.elements.ListItem at 0x7f8ee09db4f0>,\n",
              " <unstructured.documents.elements.Title at 0x7f8ee09db280>,\n",
              " <unstructured.documents.elements.NarrativeText at 0x7f8ee09d98a0>,\n",
              " <unstructured.documents.elements.Formula at 0x7f8ee09d9a20>,\n",
              " <unstructured.documents.elements.NarrativeText at 0x7f8ee10955a0>,\n",
              " <unstructured.documents.elements.Title at 0x7f8ee1097ac0>,\n",
              " <unstructured.documents.elements.NarrativeText at 0x7f8ee1095b10>,\n",
              " <unstructured.documents.elements.Footer at 0x7f8ee1096dd0>,\n",
              " <unstructured.documents.elements.NarrativeText at 0x7f8ee1094820>,\n",
              " <unstructured.documents.elements.Table at 0x7f8ee4e90a90>,\n",
              " <unstructured.documents.elements.Title at 0x7f8ee0b5af50>,\n",
              " <unstructured.documents.elements.NarrativeText at 0x7f8ee0b5be50>,\n",
              " <unstructured.documents.elements.NarrativeText at 0x7f8ee1075a20>,\n",
              " <unstructured.documents.elements.Formula at 0x7f8ee1074af0>,\n",
              " <unstructured.documents.elements.NarrativeText at 0x7f8ee10752d0>,\n",
              " <unstructured.documents.elements.NarrativeText at 0x7f8ee1074d00>,\n",
              " <unstructured.documents.elements.Title at 0x7f8ee0c701c0>,\n",
              " <unstructured.documents.elements.NarrativeText at 0x7f8ee3ae3d60>,\n",
              " <unstructured.documents.elements.NarrativeText at 0x7f8ee3ae1b10>,\n",
              " <unstructured.documents.elements.NarrativeText at 0x7f8ee3ae2410>,\n",
              " <unstructured.documents.elements.NarrativeText at 0x7f8ee37386d0>,\n",
              " <unstructured.documents.elements.Text at 0x7f8ee1075bd0>,\n",
              " <unstructured.documents.elements.NarrativeText at 0x7f8ee373b9a0>,\n",
              " <unstructured.documents.elements.NarrativeText at 0x7f8ee3738790>,\n",
              " <unstructured.documents.elements.NarrativeText at 0x7f8ee3739360>,\n",
              " <unstructured.documents.elements.Title at 0x7f8ee373b400>,\n",
              " <unstructured.documents.elements.NarrativeText at 0x7f8ee373bac0>,\n",
              " <unstructured.documents.elements.Title at 0x7f8ee11f20b0>,\n",
              " <unstructured.documents.elements.NarrativeText at 0x7f8ee11f1ae0>,\n",
              " <unstructured.documents.elements.Title at 0x7f8ee11f0fd0>,\n",
              " <unstructured.documents.elements.NarrativeText at 0x7f8ee11f1b70>,\n",
              " <unstructured.documents.elements.Title at 0x7f8ee11f15a0>,\n",
              " <unstructured.documents.elements.NarrativeText at 0x7f8ee11f3be0>,\n",
              " <unstructured.documents.elements.Formula at 0x7f8ee11f2ce0>,\n",
              " <unstructured.documents.elements.NarrativeText at 0x7f8ee11f3310>,\n",
              " <unstructured.documents.elements.Title at 0x7f8ee11f2a40>,\n",
              " <unstructured.documents.elements.NarrativeText at 0x7f8ee11f2020>,\n",
              " <unstructured.documents.elements.Footer at 0x7f8ee11f1030>,\n",
              " <unstructured.documents.elements.FigureCaption at 0x7f8ee11f1a50>,\n",
              " <unstructured.documents.elements.Table at 0x7f8ee11f06a0>,\n",
              " <unstructured.documents.elements.NarrativeText at 0x7f8ee0bb8df0>,\n",
              " <unstructured.documents.elements.NarrativeText at 0x7f8ee0bb87c0>,\n",
              " <unstructured.documents.elements.Title at 0x7f8ee13eed70>,\n",
              " <unstructured.documents.elements.Title at 0x7f8ee13efc40>,\n",
              " <unstructured.documents.elements.NarrativeText at 0x7f8ee13ece20>,\n",
              " <unstructured.documents.elements.NarrativeText at 0x7f8ee13eeaa0>,\n",
              " <unstructured.documents.elements.NarrativeText at 0x7f8ee13eef50>,\n",
              " <unstructured.documents.elements.NarrativeText at 0x7f8ee13ed540>,\n",
              " <unstructured.documents.elements.Title at 0x7f8ee13ee5f0>,\n",
              " <unstructured.documents.elements.NarrativeText at 0x7f8ee0dbf0d0>,\n",
              " <unstructured.documents.elements.Text at 0x7f8ee1076a40>,\n",
              " <unstructured.documents.elements.Footer at 0x7f8ee0dbd090>,\n",
              " <unstructured.documents.elements.NarrativeText at 0x7f8ee0dbc400>,\n",
              " <unstructured.documents.elements.Table at 0x7f8ee0dbc640>,\n",
              " <unstructured.documents.elements.Text at 0x7f8ee1074220>,\n",
              " <unstructured.documents.elements.Text at 0x7f8ee10766e0>,\n",
              " <unstructured.documents.elements.Text at 0x7f8ee1074610>,\n",
              " <unstructured.documents.elements.Text at 0x7f8ee10756c0>,\n",
              " <unstructured.documents.elements.Text at 0x7f8ee10761d0>,\n",
              " <unstructured.documents.elements.NarrativeText at 0x7f8ee0dbdcc0>,\n",
              " <unstructured.documents.elements.NarrativeText at 0x7f8ee0dbf370>,\n",
              " <unstructured.documents.elements.NarrativeText at 0x7f8ee0dbc790>,\n",
              " <unstructured.documents.elements.Title at 0x7f8ee0dbf8e0>,\n",
              " <unstructured.documents.elements.NarrativeText at 0x7f8ee0dbf400>,\n",
              " <unstructured.documents.elements.NarrativeText at 0x7f8ee126bb80>,\n",
              " <unstructured.documents.elements.NarrativeText at 0x7f8ee1269390>,\n",
              " <unstructured.documents.elements.Text at 0x7f8ee1075000>,\n",
              " <unstructured.documents.elements.Text at 0x7f8ee1076380>,\n",
              " <unstructured.documents.elements.FigureCaption at 0x7f8ee1269e10>,\n",
              " <unstructured.documents.elements.Table at 0x7f8ee126a440>,\n",
              " <unstructured.documents.elements.NarrativeText at 0x7f8ee1269810>,\n",
              " <unstructured.documents.elements.NarrativeText at 0x7f8ee12697b0>,\n",
              " <unstructured.documents.elements.NarrativeText at 0x7f8ee1269f00>,\n",
              " <unstructured.documents.elements.Title at 0x7f8ee4c691e0>,\n",
              " <unstructured.documents.elements.NarrativeText at 0x7f8ee4c6b1f0>,\n",
              " <unstructured.documents.elements.NarrativeText at 0x7f8ee4c69540>,\n",
              " <unstructured.documents.elements.NarrativeText at 0x7f8ee4c69030>,\n",
              " <unstructured.documents.elements.NarrativeText at 0x7f8ee0bd4f70>,\n",
              " <unstructured.documents.elements.NarrativeText at 0x7f8ee0bd63b0>,\n",
              " <unstructured.documents.elements.Title at 0x7f8ee1074cd0>,\n",
              " <unstructured.documents.elements.ListItem at 0x7f8ee0bd6c80>,\n",
              " <unstructured.documents.elements.ListItem at 0x7f8ee0bd45e0>,\n",
              " <unstructured.documents.elements.ListItem at 0x7f8ee0bd6e30>,\n",
              " <unstructured.documents.elements.ListItem at 0x7f8ee0bd51b0>,\n",
              " <unstructured.documents.elements.Footer at 0x7f8ee0bd79a0>,\n",
              " <unstructured.documents.elements.ListItem at 0x7f8ee0bd7880>,\n",
              " <unstructured.documents.elements.ListItem at 0x7f8ee0bd7a30>,\n",
              " <unstructured.documents.elements.ListItem at 0x7f8ee0bd5f30>,\n",
              " <unstructured.documents.elements.ListItem at 0x7f8ee0d1f310>,\n",
              " <unstructured.documents.elements.ListItem at 0x7f8ee0d1e920>,\n",
              " <unstructured.documents.elements.ListItem at 0x7f8ee0d1feb0>,\n",
              " <unstructured.documents.elements.ListItem at 0x7f8ee0d1e740>,\n",
              " <unstructured.documents.elements.ListItem at 0x7f8ee0d1d7e0>,\n",
              " <unstructured.documents.elements.ListItem at 0x7f8ee0d1e950>,\n",
              " <unstructured.documents.elements.ListItem at 0x7f8ee0d1d510>,\n",
              " <unstructured.documents.elements.ListItem at 0x7f8ee0d1e380>,\n",
              " <unstructured.documents.elements.ListItem at 0x7f8ee0d1c5b0>,\n",
              " <unstructured.documents.elements.ListItem at 0x7f8ee0d1cb80>,\n",
              " <unstructured.documents.elements.ListItem at 0x7f8ee0d1fa30>,\n",
              " <unstructured.documents.elements.ListItem at 0x7f8ee0d1df90>,\n",
              " <unstructured.documents.elements.ListItem at 0x7f8ee0d3fa30>,\n",
              " <unstructured.documents.elements.ListItem at 0x7f8ee0d3c250>,\n",
              " <unstructured.documents.elements.ListItem at 0x7f8ee0d3f190>,\n",
              " <unstructured.documents.elements.ListItem at 0x7f8ee0d3feb0>,\n",
              " <unstructured.documents.elements.ListItem at 0x7f8ee0d3cbb0>,\n",
              " <unstructured.documents.elements.Footer at 0x7f8ee0d3e020>,\n",
              " <unstructured.documents.elements.ListItem at 0x7f8ee0d3ee30>,\n",
              " <unstructured.documents.elements.ListItem at 0x7f8ee0d3d480>,\n",
              " <unstructured.documents.elements.ListItem at 0x7f8ee0d3fca0>,\n",
              " <unstructured.documents.elements.ListItem at 0x7f8ee0d3ece0>,\n",
              " <unstructured.documents.elements.ListItem at 0x7f8ee0d3cac0>,\n",
              " <unstructured.documents.elements.ListItem at 0x7f8ee0d3d5d0>,\n",
              " <unstructured.documents.elements.ListItem at 0x7f8ee0d3e200>,\n",
              " <unstructured.documents.elements.ListItem at 0x7f8ee0d5d630>,\n",
              " <unstructured.documents.elements.ListItem at 0x7f8ee0d5d930>,\n",
              " <unstructured.documents.elements.ListItem at 0x7f8ee0d5ca00>,\n",
              " <unstructured.documents.elements.ListItem at 0x7f8ee0d5f1f0>,\n",
              " <unstructured.documents.elements.ListItem at 0x7f8ee0d5cfa0>,\n",
              " <unstructured.documents.elements.ListItem at 0x7f8ee0d5ddb0>,\n",
              " <unstructured.documents.elements.ListItem at 0x7f8ee0d5d120>,\n",
              " <unstructured.documents.elements.ListItem at 0x7f8ee0d5d540>,\n",
              " <unstructured.documents.elements.ListItem at 0x7f8ee0d5e1d0>,\n",
              " <unstructured.documents.elements.Footer at 0x7f8ee0d5e830>,\n",
              " <unstructured.documents.elements.Title at 0x7f8ee0d5f0d0>,\n",
              " <unstructured.documents.elements.Image at 0x7f8ee0d5f130>,\n",
              " <unstructured.documents.elements.FigureCaption at 0x7f8ee0d5f850>,\n",
              " <unstructured.documents.elements.Header at 0x7f8ee0d5e350>,\n",
              " <unstructured.documents.elements.Image at 0x7f8ee0d5c6a0>,\n",
              " <unstructured.documents.elements.NarrativeText at 0x7f8ee0d5c910>,\n",
              " <unstructured.documents.elements.Text at 0x7f8ee1077fa0>,\n",
              " <unstructured.documents.elements.Image at 0x7f8ee0dbbc40>,\n",
              " <unstructured.documents.elements.Image at 0x7f8ee0dbab90>,\n",
              " <unstructured.documents.elements.FigureCaption at 0x7f8ee0db96f0>,\n",
              " <unstructured.documents.elements.Header at 0x7f8ee0dbafe0>]"
            ]
          },
          "metadata": {},
          "execution_count": 9
        }
      ]
    },
    {
      "cell_type": "code",
      "source": [
        "img=[]\n",
        "Table = []\n",
        "NarrativeText=[]\n",
        "ListItem=[]\n",
        "for element in raw_pdf_elements:\n",
        "  if \"unstructured.documents.elements.Image\" in str(type(element)):\n",
        "            img.append(str(element))\n",
        "  elif \"unstructured.documents.elements.NarrativeText\" in str(type(element)):\n",
        "            NarrativeText.append(str(element))\n",
        "  elif \"unstructured.documents.elements.Table\" in str(type(element)):\n",
        "            Table.append(str(element))\n",
        "  elif \"unstructured.documents.elements.ListItem\" in str(type(element)):\n",
        "            ListItem.append(str(element))\n",
        "\n"
      ],
      "metadata": {
        "id": "x8_ve59URgy-"
      },
      "execution_count": 12,
      "outputs": []
    },
    {
      "cell_type": "code",
      "source": [
        "Table[0]"
      ],
      "metadata": {
        "colab": {
          "base_uri": "https://localhost:8080/",
          "height": 70
        },
        "id": "eNGQ0fBzX4Ns",
        "outputId": "5a323161-ab5d-421a-962a-dc3079dfa479"
      },
      "execution_count": 15,
      "outputs": [
        {
          "output_type": "execute_result",
          "data": {
            "text/plain": [
              "'Layer Type Self-Attention Recurrent Convolutional Self-Attention (restricted) Complexity per Layer O(n2 · d) O(n · d2) O(k · n · d2) O(r · n · d) Sequential Maximum Path Length Operations O(1) O(n) O(1) O(1) O(1) O(n) O(logk(n)) O(n/r)'"
            ],
            "application/vnd.google.colaboratory.intrinsic+json": {
              "type": "string"
            }
          },
          "metadata": {},
          "execution_count": 15
        }
      ]
    },
    {
      "cell_type": "code",
      "source": [
        "NarrativeText"
      ],
      "metadata": {
        "colab": {
          "base_uri": "https://localhost:8080/"
        },
        "id": "Jxm42-35W2MP",
        "outputId": "7900ed6f-99c8-4fd3-a528-460748e6fcfc"
      },
      "execution_count": 11,
      "outputs": [
        {
          "output_type": "execute_result",
          "data": {
            "text/plain": [
              "['Provided proper attribution is provided, Google hereby grants permission to reproduce the tables and figures in this paper solely for use in journalistic or scholarly works.',\n",
              " 'Noam Shazeer∗ Google Brain noam@google.com',\n",
              " 'Niki Parmar∗ Google Research nikip@google.com',\n",
              " 'Jakob Uszkoreit∗ Google Research usz@google.com',\n",
              " 'Aidan N. Gomez∗ † University of Toronto aidan@cs.toronto.edu',\n",
              " 'Łukasz Kaiser∗ Google Brain lukaszkaiser@google.com',\n",
              " 'The dominant sequence transduction models are based on complex recurrent or convolutional neural networks that include an encoder and a decoder. The best performing models also connect the encoder and decoder through an attention mechanism. We propose a new simple network architecture, the Transformer, based solely on attention mechanisms, dispensing with recurrence and convolutions entirely. Experiments on two machine translation tasks show these models to be superior in quality while being more parallelizable and requiring significantly less time to train. Our model achieves 28.4 BLEU on the WMT 2014 English- to-German translation task, improving over the existing best results, including ensembles, by over 2 BLEU. On the WMT 2014 English-to-French translation task, our model establishes a new single-model state-of-the-art BLEU score of 41.8 after training for 3.5 days on eight GPUs, a small fraction of the training costs of the best models from the literature. We show that the Transformer generalizes well to other tasks by applying it successfully to English constituency parsing both with large and limited training data.',\n",
              " '∗Equal contribution. Listing order is random. Jakob proposed replacing RNNs with self-attention and started the effort to evaluate this idea. Ashish, with Illia, designed and implemented the first Transformer models and has been crucially involved in every aspect of this work. Noam proposed scaled dot-product attention, multi-head attention and the parameter-free position representation and became the other person involved in nearly every detail. Niki designed, implemented, tuned and evaluated countless model variants in our original codebase and tensor2tensor. Llion also experimented with novel model variants, was responsible for our initial codebase, and efficient inference and visualizations. Lukasz and Aidan spent countless long days designing various parts of and implementing tensor2tensor, replacing our earlier codebase, greatly improving results and massively accelerating our research.',\n",
              " '†Work performed while at Google Brain. ‡Work performed while at Google Research.',\n",
              " '31st Conference on Neural Information Processing Systems (NIPS 2017), Long Beach, CA, USA.',\n",
              " 'Recurrent neural networks, long short-term memory [13] and gated recurrent [7] neural networks in particular, have been firmly established as state of the art approaches in sequence modeling and transduction problems such as language modeling and machine translation [35, 2, 5]. Numerous efforts have since continued to push the boundaries of recurrent language models and encoder-decoder architectures [38, 24, 15].',\n",
              " 'Recurrent models typically factor computation along the symbol positions of the input and output sequences. Aligning the positions to steps in computation time, they generate a sequence of hidden states ht, as a function of the previous hidden state ht−1 and the input for position t. This inherently sequential nature precludes parallelization within training examples, which becomes critical at longer sequence lengths, as memory constraints limit batching across examples. Recent work has achieved significant improvements in computational efficiency through factorization tricks [21] and conditional computation [32], while also improving model performance in case of the latter. The fundamental constraint of sequential computation, however, remains.',\n",
              " 'Attention mechanisms have become an integral part of compelling sequence modeling and transduc- tion models in various tasks, allowing modeling of dependencies without regard to their distance in the input or output sequences [2, 19]. In all but a few cases [27], however, such attention mechanisms are used in conjunction with a recurrent network.',\n",
              " 'In this work we propose the Transformer, a model architecture eschewing recurrence and instead relying entirely on an attention mechanism to draw global dependencies between input and output. The Transformer allows for significantly more parallelization and can reach a new state of the art in translation quality after being trained for as little as twelve hours on eight P100 GPUs.',\n",
              " 'The goal of reducing sequential computation also forms the foundation of the Extended Neural GPU [16], ByteNet [18] and ConvS2S [9], all of which use convolutional neural networks as basic building block, computing hidden representations in parallel for all input and output positions. In these models, the number of operations required to relate signals from two arbitrary input or output positions grows in the distance between positions, linearly for ConvS2S and logarithmically for ByteNet. This makes it more difficult to learn dependencies between distant positions [12]. In the Transformer this is reduced to a constant number of operations, albeit at the cost of reduced effective resolution due to averaging attention-weighted positions, an effect we counteract with Multi-Head Attention as described in section 3.2.',\n",
              " 'Self-attention, sometimes called intra-attention is an attention mechanism relating different positions of a single sequence in order to compute a representation of the sequence. Self-attention has been used successfully in a variety of tasks including reading comprehension, abstractive summarization, textual entailment and learning task-independent sentence representations [4, 27, 28, 22].',\n",
              " 'End-to-end memory networks are based on a recurrent attention mechanism instead of sequence- aligned recurrence and have been shown to perform well on simple-language question answering and language modeling tasks [34].',\n",
              " 'To the best of our knowledge, however, the Transformer is the first transduction model relying entirely on self-attention to compute representations of its input and output without using sequence- aligned RNNs or convolution. In the following sections, we will describe the Transformer, motivate self-attention and discuss its advantages over models such as [17, 18] and [9].',\n",
              " 'Most competitive neural sequence transduction models have an encoder-decoder structure [5, 2, 35]. Here, the encoder maps an input sequence of symbol representations (x1, ..., xn) to a sequence of continuous representations z = (z1, ..., zn). Given z, the decoder then generates an output sequence (y1, ..., ym) of symbols one element at a time. At each step the model is auto-regressive [10], consuming the previously generated symbols as additional input when generating the next.',\n",
              " 'The Transformer follows this overall architecture using stacked self-attention and point-wise, fully connected layers for both the encoder and decoder, shown in the left and right halves of Figure 1, respectively.',\n",
              " 'Encoder: The encoder is composed of a stack of N = 6 identical layers. Each layer has two sub-layers. The first is a multi-head self-attention mechanism, and the second is a simple, position- wise fully connected feed-forward network. We employ a residual connection [11] around each of the two sub-layers, followed by layer normalization [1]. That is, the output of each sub-layer is LayerNorm(x + Sublayer(x)), where Sublayer(x) is the function implemented by the sub-layer itself. To facilitate these residual connections, all sub-layers in the model, as well as the embedding layers, produce outputs of dimension dmodel = 512.',\n",
              " 'Decoder: The decoder is also composed of a stack of N = 6 identical layers. In addition to the two sub-layers in each encoder layer, the decoder inserts a third sub-layer, which performs multi-head attention over the output of the encoder stack. Similar to the encoder, we employ residual connections around each of the sub-layers, followed by layer normalization. We also modify the self-attention sub-layer in the decoder stack to prevent positions from attending to subsequent positions. This masking, combined with fact that the output embeddings are offset by one position, ensures that the predictions for position i can depend only on the known outputs at positions less than i.',\n",
              " 'An attention function can be described as mapping a query and a set of key-value pairs to an output, where the query, keys, values, and output are all vectors. The output is computed as a weighted sum',\n",
              " 'Figure 2: (left) Scaled Dot-Product Attention. (right) Multi-Head Attention consists of several attention layers running in parallel.',\n",
              " 'of the values, where the weight assigned to each value is computed by a compatibility function of the query with the corresponding key.',\n",
              " 'We call our particular attention \"Scaled Dot-Product Attention\" (Figure 2). The input consists of queries and keys of dimension dk, and values of dimension dv. We compute the dot products of the dk, and apply a softmax function to obtain the weights on the query with all keys, divide each by values.',\n",
              " 'In practice, we compute the attention function on a set of queries simultaneously, packed together into a matrix Q. The keys and values are also packed together into matrices K and V . We compute the matrix of outputs as:',\n",
              " 'The two most commonly used attention functions are additive attention [2], and dot-product (multi- plicative) attention. Dot-product attention is identical to our algorithm, except for the scaling factor . Additive attention computes the compatibility function using a feed-forward network with of a single hidden layer. While the two are similar in theoretical complexity, dot-product attention is much faster and more space-efficient in practice, since it can be implemented using highly optimized matrix multiplication code.',\n",
              " 'While for small values of dk the two mechanisms perform similarly, additive attention outperforms dot product attention without scaling for larger values of dk [3]. We suspect that for large values of dk, the dot products grow large in magnitude, pushing the softmax function into regions where it has extremely small gradients 4. To counteract this effect, we scale the dot products by 1√ dk',\n",
              " 'Instead of performing a single attention function with dmodel-dimensional keys, values and queries, we found it beneficial to linearly project the queries, keys and values h times with different, learned linear projections to dk, dk and dv dimensions, respectively. On each of these projected versions of queries, keys and values we then perform the attention function in parallel, yielding dv-dimensional',\n",
              " '4To illustrate why the dot products get large, assume that the components of q and k are independent random i=1 qiki, has mean 0 and variance dk.',\n",
              " 'output values. These are concatenated and once again projected, resulting in the final values, as depicted in Figure 2.',\n",
              " 'Multi-head attention allows the model to jointly attend to information from different representation subspaces at different positions. With a single attention head, averaging inhibits this.',\n",
              " 'Where the projections are parameter matrices W Q and W O ∈ Rhdv×dmodel. i ∈ Rdmodel×dk , W K i ∈ Rdmodel×dk , W V i ∈ Rdmodel×dv',\n",
              " 'In this work we employ h = 8 parallel attention layers, or heads. For each of these we use dk = dv = dmodel/h = 64. Due to the reduced dimension of each head, the total computational cost is similar to that of single-head attention with full dimensionality.',\n",
              " 'The Transformer uses multi-head attention in three different ways:',\n",
              " 'In addition to attention sub-layers, each of the layers in our encoder and decoder contains a fully connected feed-forward network, which is applied to each position separately and identically. This consists of two linear transformations with a ReLU activation in between.',\n",
              " 'While the linear transformations are the same across different positions, they use different parameters from layer to layer. Another way of describing this is as two convolutions with kernel size 1. The dimensionality of input and output is dmodel = 512, and the inner-layer has dimensionality df f = 2048.',\n",
              " 'Similarly to other sequence transduction models, we use learned embeddings to convert the input tokens and output tokens to vectors of dimension dmodel. We also use the usual learned linear transfor- mation and softmax function to convert the decoder output to predicted next-token probabilities. In our model, we share the same weight matrix between the two embedding layers and the pre-softmax dmodel. linear transformation, similar to [30]. In the embedding layers, we multiply those weights by',\n",
              " 'Table 1: Maximum path lengths, per-layer complexity and minimum number of sequential operations for different layer types. n is the sequence length, d is the representation dimension, k is the kernel size of convolutions and r the size of the neighborhood in restricted self-attention.',\n",
              " 'Since our model contains no recurrence and no convolution, in order for the model to make use of the order of the sequence, we must inject some information about the relative or absolute position of the tokens in the sequence. To this end, we add \"positional encodings\" to the input embeddings at the bottoms of the encoder and decoder stacks. The positional encodings have the same dimension dmodel as the embeddings, so that the two can be summed. There are many choices of positional encodings, learned and fixed [9].',\n",
              " 'In this work, we use sine and cosine functions of different frequencies:',\n",
              " 'where pos is the position and i is the dimension. That is, each dimension of the positional encoding corresponds to a sinusoid. The wavelengths form a geometric progression from 2π to 10000 · 2π. We chose this function because we hypothesized it would allow the model to easily learn to attend by relative positions, since for any fixed offset k, P Epos+k can be represented as a linear function of P Epos.',\n",
              " 'We also experimented with using learned positional embeddings [9] instead, and found that the two versions produced nearly identical results (see Table 3 row (E)). We chose the sinusoidal version because it may allow the model to extrapolate to sequence lengths longer than the ones encountered during training.',\n",
              " 'In this section we compare various aspects of self-attention layers to the recurrent and convolu- tional layers commonly used for mapping one variable-length sequence of symbol representations (x1, ..., xn) to another sequence of equal length (z1, ..., zn), with xi, zi ∈ Rd, such as a hidden layer in a typical sequence transduction encoder or decoder. Motivating our use of self-attention we consider three desiderata.',\n",
              " 'One is the total computational complexity per layer. Another is the amount of computation that can be parallelized, as measured by the minimum number of sequential operations required.',\n",
              " 'The third is the path length between long-range dependencies in the network. Learning long-range dependencies is a key challenge in many sequence transduction tasks. One key factor affecting the ability to learn such dependencies is the length of the paths forward and backward signals have to traverse in the network. The shorter these paths between any combination of positions in the input and output sequences, the easier it is to learn long-range dependencies [12]. Hence we also compare the maximum path length between any two input and output positions in networks composed of the different layer types.',\n",
              " 'As noted in Table 1, a self-attention layer connects all positions with a constant number of sequentially executed operations, whereas a recurrent layer requires O(n) sequential operations. In terms of computational complexity, self-attention layers are faster than recurrent layers when the sequence',\n",
              " 'length n is smaller than the representation dimensionality d, which is most often the case with sentence representations used by state-of-the-art models in machine translations, such as word-piece [38] and byte-pair [31] representations. To improve computational performance for tasks involving very long sequences, self-attention could be restricted to considering only a neighborhood of size r in the input sequence centered around the respective output position. This would increase the maximum path length to O(n/r). We plan to investigate this approach further in future work.',\n",
              " 'A single convolutional layer with kernel width k < n does not connect all pairs of input and output positions. Doing so requires a stack of O(n/k) convolutional layers in the case of contiguous kernels, or O(logk(n)) in the case of dilated convolutions [18], increasing the length of the longest paths between any two positions in the network. Convolutional layers are generally more expensive than recurrent layers, by a factor of k. Separable convolutions [6], however, decrease the complexity considerably, to O(k · n · d + n · d2). Even with k = n, however, the complexity of a separable convolution is equal to the combination of a self-attention layer and a point-wise feed-forward layer, the approach we take in our model.',\n",
              " 'As side benefit, self-attention could yield more interpretable models. We inspect attention distributions from our models and present and discuss examples in the appendix. Not only do individual attention heads clearly learn to perform different tasks, many appear to exhibit behavior related to the syntactic and semantic structure of the sentences.',\n",
              " 'This section describes the training regime for our models.',\n",
              " 'We trained on the standard WMT 2014 English-German dataset consisting of about 4.5 million sentence pairs. Sentences were encoded using byte-pair encoding [3], which has a shared source- target vocabulary of about 37000 tokens. For English-French, we used the significantly larger WMT 2014 English-French dataset consisting of 36M sentences and split tokens into a 32000 word-piece vocabulary [38]. Sentence pairs were batched together by approximate sequence length. Each training batch contained a set of sentence pairs containing approximately 25000 source tokens and 25000 target tokens.',\n",
              " 'We trained our models on one machine with 8 NVIDIA P100 GPUs. For our base models using the hyperparameters described throughout the paper, each training step took about 0.4 seconds. We trained the base models for a total of 100,000 steps or 12 hours. For our big models,(described on the bottom line of table 3), step time was 1.0 seconds. The big models were trained for 300,000 steps (3.5 days).',\n",
              " 'We used the Adam optimizer [20] with β1 = 0.9, β2 = 0.98 and ϵ = 10−9. We varied the learning rate over the course of training, according to the formula:',\n",
              " 'This corresponds to increasing the learning rate linearly for the first warmup_steps training steps, and decreasing it thereafter proportionally to the inverse square root of the step number. We used warmup_steps = 4000.',\n",
              " 'We employ three types of regularization during training:',\n",
              " 'Residual Dropout We apply dropout [33] to the output of each sub-layer, before it is added to the sub-layer input and normalized. In addition, we apply dropout to the sums of the embeddings and the positional encodings in both the encoder and decoder stacks. For the base model, we use a rate of Pdrop = 0.1.',\n",
              " 'Label Smoothing During training, we employed label smoothing of value ϵls = 0.1 [36]. This hurts perplexity, as the model learns to be more unsure, but improves accuracy and BLEU score.',\n",
              " 'On the WMT 2014 English-to-German translation task, the big transformer model (Transformer (big) in Table 2) outperforms the best previously reported models (including ensembles) by more than 2.0 BLEU, establishing a new state-of-the-art BLEU score of 28.4. The configuration of this model is listed in the bottom line of Table 3. Training took 3.5 days on 8 P100 GPUs. Even our base model surpasses all previously published models and ensembles, at a fraction of the training cost of any of the competitive models.',\n",
              " 'On the WMT 2014 English-to-French translation task, our big model achieves a BLEU score of 41.0, outperforming all of the previously published single models, at less than 1/4 the training cost of the previous state-of-the-art model. The Transformer (big) model trained for English-to-French used dropout rate Pdrop = 0.1, instead of 0.3.',\n",
              " 'For the base models, we used a single model obtained by averaging the last 5 checkpoints, which were written at 10-minute intervals. For the big models, we averaged the last 20 checkpoints. We used beam search with a beam size of 4 and length penalty α = 0.6 [38]. These hyperparameters were chosen after experimentation on the development set. We set the maximum output length during inference to input length + 50, but terminate early when possible [38].',\n",
              " 'Table 2 summarizes our results and compares our translation quality and training costs to other model architectures from the literature. We estimate the number of floating point operations used to train a model by multiplying the training time, the number of GPUs used, and an estimate of the sustained single-precision floating-point capacity of each GPU 5.',\n",
              " 'To evaluate the importance of different components of the Transformer, we varied our base model in different ways, measuring the change in performance on English-to-German translation on the',\n",
              " 'Table 3: Variations on the Transformer architecture. Unlisted values are identical to those of the base model. All metrics are on the English-to-German translation development set, newstest2013. Listed perplexities are per-wordpiece, according to our byte-pair encoding, and should not be compared to per-word perplexities.',\n",
              " 'development set, newstest2013. We used beam search as described in the previous section, but no checkpoint averaging. We present these results in Table 3.',\n",
              " 'In Table 3 rows (A), we vary the number of attention heads and the attention key and value dimensions, keeping the amount of computation constant, as described in Section 3.2.2. While single-head attention is 0.9 BLEU worse than the best setting, quality also drops off with too many heads.',\n",
              " 'In Table 3 rows (B), we observe that reducing the attention key size dk hurts model quality. This suggests that determining compatibility is not easy and that a more sophisticated compatibility function than dot product may be beneficial. We further observe in rows (C) and (D) that, as expected, bigger models are better, and dropout is very helpful in avoiding over-fitting. In row (E) we replace our sinusoidal positional encoding with learned positional embeddings [9], and observe nearly identical results to the base model.',\n",
              " 'To evaluate if the Transformer can generalize to other tasks we performed experiments on English constituency parsing. This task presents specific challenges: the output is subject to strong structural constraints and is significantly longer than the input. Furthermore, RNN sequence-to-sequence models have not been able to attain state-of-the-art results in small-data regimes [37].',\n",
              " 'We trained a 4-layer transformer with dmodel = 1024 on the Wall Street Journal (WSJ) portion of the Penn Treebank [25], about 40K training sentences. We also trained it in a semi-supervised setting, using the larger high-confidence and BerkleyParser corpora from with approximately 17M sentences [37]. We used a vocabulary of 16K tokens for the WSJ only setting and a vocabulary of 32K tokens for the semi-supervised setting.',\n",
              " 'We performed only a small number of experiments to select the dropout, both attention and residual (section 5.4), learning rates and beam size on the Section 22 development set, all other parameters remained unchanged from the English-to-German base translation model. During inference, we',\n",
              " 'increased the maximum output length to input length + 300. We used a beam size of 21 and α = 0.3 for both WSJ only and the semi-supervised setting.',\n",
              " 'Our results in Table 4 show that despite the lack of task-specific tuning our model performs sur- prisingly well, yielding better results than all previously reported models with the exception of the Recurrent Neural Network Grammar [8].',\n",
              " 'In contrast to RNN sequence-to-sequence models [37], the Transformer outperforms the Berkeley- Parser [29] even when training only on the WSJ training set of 40K sentences.',\n",
              " 'In this work, we presented the Transformer, the first sequence transduction model based entirely on attention, replacing the recurrent layers most commonly used in encoder-decoder architectures with multi-headed self-attention.',\n",
              " 'For translation tasks, the Transformer can be trained significantly faster than architectures based on recurrent or convolutional layers. On both WMT 2014 English-to-German and WMT 2014 English-to-French translation tasks, we achieve a new state of the art. In the former task our best model outperforms even all previously reported ensembles.',\n",
              " 'We are excited about the future of attention-based models and plan to apply them to other tasks. We plan to extend the Transformer to problems involving input and output modalities other than text and to investigate local, restricted attention mechanisms to efficiently handle large inputs and outputs such as images, audio and video. Making generation less sequential is another research goals of ours.',\n",
              " 'The code we used to train and evaluate our models is available at https://github.com/ tensorflow/tensor2tensor.',\n",
              " 'Acknowledgements We are grateful to Nal Kalchbrenner and Stephan Gouws for their fruitful comments, corrections and inspiration.',\n",
              " 'Figure 4: Two attention heads, also in layer 5 of 6, apparently involved in anaphora resolution. Top: Full attentions for head 5. Bottom: Isolated attentions from just the word ‘its’ for attention heads 5 and 6. Note that the attentions are very sharp for this word.']"
            ]
          },
          "metadata": {},
          "execution_count": 11
        }
      ]
    },
    {
      "cell_type": "code",
      "source": [],
      "metadata": {
        "id": "X_ODl5_3W4Xo"
      },
      "execution_count": null,
      "outputs": []
    }
  ]
}